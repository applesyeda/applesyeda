{
  "nbformat": 4,
  "nbformat_minor": 0,
  "metadata": {
    "colab": {
      "name": "Project 2- Part 4 (Core).ipynb",
      "provenance": [],
      "authorship_tag": "ABX9TyNI4n09KcbhCS/Fz1ZMLY4I",
      "include_colab_link": true
    },
    "kernelspec": {
      "name": "python3",
      "display_name": "Python 3"
    },
    "language_info": {
      "name": "python"
    }
  },
  "cells": [
    {
      "cell_type": "markdown",
      "metadata": {
        "id": "view-in-github",
        "colab_type": "text"
      },
      "source": [
        "<a href=\"https://colab.research.google.com/github/applesyeda/applesyeda/blob/main/Project_2_Part_4_(Core).ipynb\" target=\"_parent\"><img src=\"https://colab.research.google.com/assets/colab-badge.svg\" alt=\"Open In Colab\"/></a>"
      ]
    },
    {
      "cell_type": "code",
      "source": [
        "# Loading data from Google Drive\n",
        "from google.colab import drive\n",
        "drive.mount('/content/drive')"
      ],
      "metadata": {
        "colab": {
          "base_uri": "https://localhost:8080/"
        },
        "id": "c8EJHZOmg5Yq",
        "outputId": "a1093da1-dd97-4aa6-f87b-59834eec3b90"
      },
      "execution_count": null,
      "outputs": [
        {
          "output_type": "stream",
          "name": "stdout",
          "text": [
            "Mounted at /content/drive\n"
          ]
        }
      ]
    },
    {
      "cell_type": "code",
      "source": [
        "# Imports\n",
        "import numpy as np\n",
        "import matplotlib.pyplot as plt\n",
        "import pandas as pd\n",
        "from sklearn.preprocessing import LabelEncoder, StandardScaler\n",
        "from sklearn.model_selection import train_test_split\n",
        "from sklearn.pipeline import make_pipeline\n",
        "from sklearn.neighbors import KNeighborsClassifier\n",
        "from sklearn.decomposition import PCA\n",
        "from sklearn.linear_model import LogisticRegression\n",
        "from sklearn.metrics import classification_report, confusion_matrix, precision_score\n",
        "import seaborn as sns\n",
        "from sklearn.ensemble import RandomForestRegressor\n",
        "\n",
        "#Importing the Classifiers\n",
        "from sklearn.tree import DecisionTreeClassifier\n",
        "from sklearn.dummy import DummyClassifier\n",
        "\n",
        "#import accuracy, precision, recall, classification report, and confusion matrix scoring functions\n",
        "from sklearn.metrics import accuracy_score, precision_score, recall_score, classification_report, confusion_matrix"
      ],
      "metadata": {
        "id": "YkvsyJ5WhBYV"
      },
      "execution_count": null,
      "outputs": []
    },
    {
      "cell_type": "code",
      "source": [
        "#Loading the data\n",
        "filename = \"/content/Date_Fruit_Datasets.xlsx\"\n",
        "df= pd.read_excel(filename)\n",
        "df"
      ],
      "metadata": {
        "colab": {
          "base_uri": "https://localhost:8080/",
          "height": 488
        },
        "id": "QOPVtuHwiVaP",
        "outputId": "f9d30a37-3f07-4b77-f90f-3d044e4a71cc"
      },
      "execution_count": null,
      "outputs": [
        {
          "output_type": "execute_result",
          "data": {
            "text/plain": [
              "       AREA  PERIMETER  MAJOR_AXIS  MINOR_AXIS  ECCENTRICITY   EQDIASQ  \\\n",
              "0    422163  2378.9080    837.8484    645.6693        0.6373  733.1539   \n",
              "1    338136  2085.1440    723.8198    595.2073        0.5690  656.1464   \n",
              "2    526843  2647.3940    940.7379    715.3638        0.6494  819.0222   \n",
              "3    416063  2351.2100    827.9804    645.2988        0.6266  727.8378   \n",
              "4    347562  2160.3540    763.9877    582.8359        0.6465  665.2291   \n",
              "..      ...        ...         ...         ...           ...       ...   \n",
              "893  255403  1925.3650    691.8453    477.1796        0.7241  570.2536   \n",
              "894  365924  2664.8230    855.4633    551.5447        0.7644  682.5752   \n",
              "895  254330  1926.7360    747.4943    435.6219        0.8126  569.0545   \n",
              "896  238955  1906.2679    716.6485    441.8297        0.7873  551.5859   \n",
              "897  343792  2289.2720    823.8438    534.7757        0.7607  661.6113   \n",
              "\n",
              "     SOLIDITY  CONVEX_AREA  EXTENT  ASPECT_RATIO  ...  KurtosisRR  KurtosisRG  \\\n",
              "0      0.9947       424428  0.7831        1.2976  ...      3.2370      2.9574   \n",
              "1      0.9974       339014  0.7795        1.2161  ...      2.6228      2.6350   \n",
              "2      0.9962       528876  0.7657        1.3150  ...      3.7516      3.8611   \n",
              "3      0.9948       418255  0.7759        1.2831  ...      5.0401      8.6136   \n",
              "4      0.9908       350797  0.7569        1.3108  ...      2.7016      2.9761   \n",
              "..        ...          ...     ...           ...  ...         ...         ...   \n",
              "893    0.9785       261028  0.7269        1.4499  ...      2.2423      2.3704   \n",
              "894    0.9466       386566  0.6695        1.5510  ...      3.4109      3.5805   \n",
              "895    0.9925       256255  0.7240        1.7159  ...      2.2759      2.5090   \n",
              "896    0.9604       248795  0.6954        1.6220  ...      2.6769      2.6874   \n",
              "897    0.9781       351472  0.6941        1.5405  ...      2.5138      3.0369   \n",
              "\n",
              "     KurtosisRB    EntropyRR    EntropyRG    EntropyRB  ALLdaub4RR  \\\n",
              "0        4.2287 -59191263232 -50714214400 -39922372608     58.7255   \n",
              "1        3.1704 -34233065472 -37462601728 -31477794816     50.0259   \n",
              "2        4.7192 -93948354560 -74738221056 -60311207936     65.4772   \n",
              "3        8.2618 -32074307584 -32060925952 -29575010304     43.3900   \n",
              "4        4.4146 -39980974080 -35980042240 -25593278464     52.7743   \n",
              "..          ...          ...          ...          ...         ...   \n",
              "893      2.7202 -25296416768 -19168882688 -18473392128     49.0869   \n",
              "894      3.9910 -31605219328 -21945366528 -19277905920     46.8086   \n",
              "895      2.6951 -22242772992 -19594921984 -17592152064     44.1325   \n",
              "896      2.7991 -26048595968 -21299822592 -19809978368     51.2267   \n",
              "897      3.0865 -31983476736 -20482514944 -21219354624     47.3454   \n",
              "\n",
              "     ALLdaub4RG  ALLdaub4RB  Class  \n",
              "0       54.9554     47.8400  BERHI  \n",
              "1       52.8168     47.8315  BERHI  \n",
              "2       59.2860     51.9378  BERHI  \n",
              "3       44.1259     41.1882  BERHI  \n",
              "4       50.9080     42.6666  BERHI  \n",
              "..          ...         ...    ...  \n",
              "893     43.0422     42.4153  SOGAY  \n",
              "894     39.1046     36.5502  SOGAY  \n",
              "895     40.7986     40.9769  SOGAY  \n",
              "896     45.7162     45.6260  SOGAY  \n",
              "897     38.6966     39.6738  SOGAY  \n",
              "\n",
              "[898 rows x 35 columns]"
            ],
            "text/html": [
              "\n",
              "  <div id=\"df-213f0ac3-20d7-4b18-80c5-184198b212af\">\n",
              "    <div class=\"colab-df-container\">\n",
              "      <div>\n",
              "<style scoped>\n",
              "    .dataframe tbody tr th:only-of-type {\n",
              "        vertical-align: middle;\n",
              "    }\n",
              "\n",
              "    .dataframe tbody tr th {\n",
              "        vertical-align: top;\n",
              "    }\n",
              "\n",
              "    .dataframe thead th {\n",
              "        text-align: right;\n",
              "    }\n",
              "</style>\n",
              "<table border=\"1\" class=\"dataframe\">\n",
              "  <thead>\n",
              "    <tr style=\"text-align: right;\">\n",
              "      <th></th>\n",
              "      <th>AREA</th>\n",
              "      <th>PERIMETER</th>\n",
              "      <th>MAJOR_AXIS</th>\n",
              "      <th>MINOR_AXIS</th>\n",
              "      <th>ECCENTRICITY</th>\n",
              "      <th>EQDIASQ</th>\n",
              "      <th>SOLIDITY</th>\n",
              "      <th>CONVEX_AREA</th>\n",
              "      <th>EXTENT</th>\n",
              "      <th>ASPECT_RATIO</th>\n",
              "      <th>...</th>\n",
              "      <th>KurtosisRR</th>\n",
              "      <th>KurtosisRG</th>\n",
              "      <th>KurtosisRB</th>\n",
              "      <th>EntropyRR</th>\n",
              "      <th>EntropyRG</th>\n",
              "      <th>EntropyRB</th>\n",
              "      <th>ALLdaub4RR</th>\n",
              "      <th>ALLdaub4RG</th>\n",
              "      <th>ALLdaub4RB</th>\n",
              "      <th>Class</th>\n",
              "    </tr>\n",
              "  </thead>\n",
              "  <tbody>\n",
              "    <tr>\n",
              "      <th>0</th>\n",
              "      <td>422163</td>\n",
              "      <td>2378.9080</td>\n",
              "      <td>837.8484</td>\n",
              "      <td>645.6693</td>\n",
              "      <td>0.6373</td>\n",
              "      <td>733.1539</td>\n",
              "      <td>0.9947</td>\n",
              "      <td>424428</td>\n",
              "      <td>0.7831</td>\n",
              "      <td>1.2976</td>\n",
              "      <td>...</td>\n",
              "      <td>3.2370</td>\n",
              "      <td>2.9574</td>\n",
              "      <td>4.2287</td>\n",
              "      <td>-59191263232</td>\n",
              "      <td>-50714214400</td>\n",
              "      <td>-39922372608</td>\n",
              "      <td>58.7255</td>\n",
              "      <td>54.9554</td>\n",
              "      <td>47.8400</td>\n",
              "      <td>BERHI</td>\n",
              "    </tr>\n",
              "    <tr>\n",
              "      <th>1</th>\n",
              "      <td>338136</td>\n",
              "      <td>2085.1440</td>\n",
              "      <td>723.8198</td>\n",
              "      <td>595.2073</td>\n",
              "      <td>0.5690</td>\n",
              "      <td>656.1464</td>\n",
              "      <td>0.9974</td>\n",
              "      <td>339014</td>\n",
              "      <td>0.7795</td>\n",
              "      <td>1.2161</td>\n",
              "      <td>...</td>\n",
              "      <td>2.6228</td>\n",
              "      <td>2.6350</td>\n",
              "      <td>3.1704</td>\n",
              "      <td>-34233065472</td>\n",
              "      <td>-37462601728</td>\n",
              "      <td>-31477794816</td>\n",
              "      <td>50.0259</td>\n",
              "      <td>52.8168</td>\n",
              "      <td>47.8315</td>\n",
              "      <td>BERHI</td>\n",
              "    </tr>\n",
              "    <tr>\n",
              "      <th>2</th>\n",
              "      <td>526843</td>\n",
              "      <td>2647.3940</td>\n",
              "      <td>940.7379</td>\n",
              "      <td>715.3638</td>\n",
              "      <td>0.6494</td>\n",
              "      <td>819.0222</td>\n",
              "      <td>0.9962</td>\n",
              "      <td>528876</td>\n",
              "      <td>0.7657</td>\n",
              "      <td>1.3150</td>\n",
              "      <td>...</td>\n",
              "      <td>3.7516</td>\n",
              "      <td>3.8611</td>\n",
              "      <td>4.7192</td>\n",
              "      <td>-93948354560</td>\n",
              "      <td>-74738221056</td>\n",
              "      <td>-60311207936</td>\n",
              "      <td>65.4772</td>\n",
              "      <td>59.2860</td>\n",
              "      <td>51.9378</td>\n",
              "      <td>BERHI</td>\n",
              "    </tr>\n",
              "    <tr>\n",
              "      <th>3</th>\n",
              "      <td>416063</td>\n",
              "      <td>2351.2100</td>\n",
              "      <td>827.9804</td>\n",
              "      <td>645.2988</td>\n",
              "      <td>0.6266</td>\n",
              "      <td>727.8378</td>\n",
              "      <td>0.9948</td>\n",
              "      <td>418255</td>\n",
              "      <td>0.7759</td>\n",
              "      <td>1.2831</td>\n",
              "      <td>...</td>\n",
              "      <td>5.0401</td>\n",
              "      <td>8.6136</td>\n",
              "      <td>8.2618</td>\n",
              "      <td>-32074307584</td>\n",
              "      <td>-32060925952</td>\n",
              "      <td>-29575010304</td>\n",
              "      <td>43.3900</td>\n",
              "      <td>44.1259</td>\n",
              "      <td>41.1882</td>\n",
              "      <td>BERHI</td>\n",
              "    </tr>\n",
              "    <tr>\n",
              "      <th>4</th>\n",
              "      <td>347562</td>\n",
              "      <td>2160.3540</td>\n",
              "      <td>763.9877</td>\n",
              "      <td>582.8359</td>\n",
              "      <td>0.6465</td>\n",
              "      <td>665.2291</td>\n",
              "      <td>0.9908</td>\n",
              "      <td>350797</td>\n",
              "      <td>0.7569</td>\n",
              "      <td>1.3108</td>\n",
              "      <td>...</td>\n",
              "      <td>2.7016</td>\n",
              "      <td>2.9761</td>\n",
              "      <td>4.4146</td>\n",
              "      <td>-39980974080</td>\n",
              "      <td>-35980042240</td>\n",
              "      <td>-25593278464</td>\n",
              "      <td>52.7743</td>\n",
              "      <td>50.9080</td>\n",
              "      <td>42.6666</td>\n",
              "      <td>BERHI</td>\n",
              "    </tr>\n",
              "    <tr>\n",
              "      <th>...</th>\n",
              "      <td>...</td>\n",
              "      <td>...</td>\n",
              "      <td>...</td>\n",
              "      <td>...</td>\n",
              "      <td>...</td>\n",
              "      <td>...</td>\n",
              "      <td>...</td>\n",
              "      <td>...</td>\n",
              "      <td>...</td>\n",
              "      <td>...</td>\n",
              "      <td>...</td>\n",
              "      <td>...</td>\n",
              "      <td>...</td>\n",
              "      <td>...</td>\n",
              "      <td>...</td>\n",
              "      <td>...</td>\n",
              "      <td>...</td>\n",
              "      <td>...</td>\n",
              "      <td>...</td>\n",
              "      <td>...</td>\n",
              "      <td>...</td>\n",
              "    </tr>\n",
              "    <tr>\n",
              "      <th>893</th>\n",
              "      <td>255403</td>\n",
              "      <td>1925.3650</td>\n",
              "      <td>691.8453</td>\n",
              "      <td>477.1796</td>\n",
              "      <td>0.7241</td>\n",
              "      <td>570.2536</td>\n",
              "      <td>0.9785</td>\n",
              "      <td>261028</td>\n",
              "      <td>0.7269</td>\n",
              "      <td>1.4499</td>\n",
              "      <td>...</td>\n",
              "      <td>2.2423</td>\n",
              "      <td>2.3704</td>\n",
              "      <td>2.7202</td>\n",
              "      <td>-25296416768</td>\n",
              "      <td>-19168882688</td>\n",
              "      <td>-18473392128</td>\n",
              "      <td>49.0869</td>\n",
              "      <td>43.0422</td>\n",
              "      <td>42.4153</td>\n",
              "      <td>SOGAY</td>\n",
              "    </tr>\n",
              "    <tr>\n",
              "      <th>894</th>\n",
              "      <td>365924</td>\n",
              "      <td>2664.8230</td>\n",
              "      <td>855.4633</td>\n",
              "      <td>551.5447</td>\n",
              "      <td>0.7644</td>\n",
              "      <td>682.5752</td>\n",
              "      <td>0.9466</td>\n",
              "      <td>386566</td>\n",
              "      <td>0.6695</td>\n",
              "      <td>1.5510</td>\n",
              "      <td>...</td>\n",
              "      <td>3.4109</td>\n",
              "      <td>3.5805</td>\n",
              "      <td>3.9910</td>\n",
              "      <td>-31605219328</td>\n",
              "      <td>-21945366528</td>\n",
              "      <td>-19277905920</td>\n",
              "      <td>46.8086</td>\n",
              "      <td>39.1046</td>\n",
              "      <td>36.5502</td>\n",
              "      <td>SOGAY</td>\n",
              "    </tr>\n",
              "    <tr>\n",
              "      <th>895</th>\n",
              "      <td>254330</td>\n",
              "      <td>1926.7360</td>\n",
              "      <td>747.4943</td>\n",
              "      <td>435.6219</td>\n",
              "      <td>0.8126</td>\n",
              "      <td>569.0545</td>\n",
              "      <td>0.9925</td>\n",
              "      <td>256255</td>\n",
              "      <td>0.7240</td>\n",
              "      <td>1.7159</td>\n",
              "      <td>...</td>\n",
              "      <td>2.2759</td>\n",
              "      <td>2.5090</td>\n",
              "      <td>2.6951</td>\n",
              "      <td>-22242772992</td>\n",
              "      <td>-19594921984</td>\n",
              "      <td>-17592152064</td>\n",
              "      <td>44.1325</td>\n",
              "      <td>40.7986</td>\n",
              "      <td>40.9769</td>\n",
              "      <td>SOGAY</td>\n",
              "    </tr>\n",
              "    <tr>\n",
              "      <th>896</th>\n",
              "      <td>238955</td>\n",
              "      <td>1906.2679</td>\n",
              "      <td>716.6485</td>\n",
              "      <td>441.8297</td>\n",
              "      <td>0.7873</td>\n",
              "      <td>551.5859</td>\n",
              "      <td>0.9604</td>\n",
              "      <td>248795</td>\n",
              "      <td>0.6954</td>\n",
              "      <td>1.6220</td>\n",
              "      <td>...</td>\n",
              "      <td>2.6769</td>\n",
              "      <td>2.6874</td>\n",
              "      <td>2.7991</td>\n",
              "      <td>-26048595968</td>\n",
              "      <td>-21299822592</td>\n",
              "      <td>-19809978368</td>\n",
              "      <td>51.2267</td>\n",
              "      <td>45.7162</td>\n",
              "      <td>45.6260</td>\n",
              "      <td>SOGAY</td>\n",
              "    </tr>\n",
              "    <tr>\n",
              "      <th>897</th>\n",
              "      <td>343792</td>\n",
              "      <td>2289.2720</td>\n",
              "      <td>823.8438</td>\n",
              "      <td>534.7757</td>\n",
              "      <td>0.7607</td>\n",
              "      <td>661.6113</td>\n",
              "      <td>0.9781</td>\n",
              "      <td>351472</td>\n",
              "      <td>0.6941</td>\n",
              "      <td>1.5405</td>\n",
              "      <td>...</td>\n",
              "      <td>2.5138</td>\n",
              "      <td>3.0369</td>\n",
              "      <td>3.0865</td>\n",
              "      <td>-31983476736</td>\n",
              "      <td>-20482514944</td>\n",
              "      <td>-21219354624</td>\n",
              "      <td>47.3454</td>\n",
              "      <td>38.6966</td>\n",
              "      <td>39.6738</td>\n",
              "      <td>SOGAY</td>\n",
              "    </tr>\n",
              "  </tbody>\n",
              "</table>\n",
              "<p>898 rows × 35 columns</p>\n",
              "</div>\n",
              "      <button class=\"colab-df-convert\" onclick=\"convertToInteractive('df-213f0ac3-20d7-4b18-80c5-184198b212af')\"\n",
              "              title=\"Convert this dataframe to an interactive table.\"\n",
              "              style=\"display:none;\">\n",
              "        \n",
              "  <svg xmlns=\"http://www.w3.org/2000/svg\" height=\"24px\"viewBox=\"0 0 24 24\"\n",
              "       width=\"24px\">\n",
              "    <path d=\"M0 0h24v24H0V0z\" fill=\"none\"/>\n",
              "    <path d=\"M18.56 5.44l.94 2.06.94-2.06 2.06-.94-2.06-.94-.94-2.06-.94 2.06-2.06.94zm-11 1L8.5 8.5l.94-2.06 2.06-.94-2.06-.94L8.5 2.5l-.94 2.06-2.06.94zm10 10l.94 2.06.94-2.06 2.06-.94-2.06-.94-.94-2.06-.94 2.06-2.06.94z\"/><path d=\"M17.41 7.96l-1.37-1.37c-.4-.4-.92-.59-1.43-.59-.52 0-1.04.2-1.43.59L10.3 9.45l-7.72 7.72c-.78.78-.78 2.05 0 2.83L4 21.41c.39.39.9.59 1.41.59.51 0 1.02-.2 1.41-.59l7.78-7.78 2.81-2.81c.8-.78.8-2.07 0-2.86zM5.41 20L4 18.59l7.72-7.72 1.47 1.35L5.41 20z\"/>\n",
              "  </svg>\n",
              "      </button>\n",
              "      \n",
              "  <style>\n",
              "    .colab-df-container {\n",
              "      display:flex;\n",
              "      flex-wrap:wrap;\n",
              "      gap: 12px;\n",
              "    }\n",
              "\n",
              "    .colab-df-convert {\n",
              "      background-color: #E8F0FE;\n",
              "      border: none;\n",
              "      border-radius: 50%;\n",
              "      cursor: pointer;\n",
              "      display: none;\n",
              "      fill: #1967D2;\n",
              "      height: 32px;\n",
              "      padding: 0 0 0 0;\n",
              "      width: 32px;\n",
              "    }\n",
              "\n",
              "    .colab-df-convert:hover {\n",
              "      background-color: #E2EBFA;\n",
              "      box-shadow: 0px 1px 2px rgba(60, 64, 67, 0.3), 0px 1px 3px 1px rgba(60, 64, 67, 0.15);\n",
              "      fill: #174EA6;\n",
              "    }\n",
              "\n",
              "    [theme=dark] .colab-df-convert {\n",
              "      background-color: #3B4455;\n",
              "      fill: #D2E3FC;\n",
              "    }\n",
              "\n",
              "    [theme=dark] .colab-df-convert:hover {\n",
              "      background-color: #434B5C;\n",
              "      box-shadow: 0px 1px 3px 1px rgba(0, 0, 0, 0.15);\n",
              "      filter: drop-shadow(0px 1px 2px rgba(0, 0, 0, 0.3));\n",
              "      fill: #FFFFFF;\n",
              "    }\n",
              "  </style>\n",
              "\n",
              "      <script>\n",
              "        const buttonEl =\n",
              "          document.querySelector('#df-213f0ac3-20d7-4b18-80c5-184198b212af button.colab-df-convert');\n",
              "        buttonEl.style.display =\n",
              "          google.colab.kernel.accessAllowed ? 'block' : 'none';\n",
              "\n",
              "        async function convertToInteractive(key) {\n",
              "          const element = document.querySelector('#df-213f0ac3-20d7-4b18-80c5-184198b212af');\n",
              "          const dataTable =\n",
              "            await google.colab.kernel.invokeFunction('convertToInteractive',\n",
              "                                                     [key], {});\n",
              "          if (!dataTable) return;\n",
              "\n",
              "          const docLinkHtml = 'Like what you see? Visit the ' +\n",
              "            '<a target=\"_blank\" href=https://colab.research.google.com/notebooks/data_table.ipynb>data table notebook</a>'\n",
              "            + ' to learn more about interactive tables.';\n",
              "          element.innerHTML = '';\n",
              "          dataTable['output_type'] = 'display_data';\n",
              "          await google.colab.output.renderOutput(dataTable, element);\n",
              "          const docLink = document.createElement('div');\n",
              "          docLink.innerHTML = docLinkHtml;\n",
              "          element.appendChild(docLink);\n",
              "        }\n",
              "      </script>\n",
              "    </div>\n",
              "  </div>\n",
              "  "
            ]
          },
          "metadata": {},
          "execution_count": 3
        }
      ]
    },
    {
      "cell_type": "markdown",
      "source": [
        "There are no unnessary columns or rows to delete. All are also continuous, so I do not hope to take out an outliers as they may be indicative of something else, such as a deformity in the date.\n",
        "\n",
        "Identified and addressed missing values"
      ],
      "metadata": {
        "id": "dYK3c1fAn2dF"
      }
    },
    {
      "cell_type": "code",
      "source": [
        "#Checking for duplicates while counting the rows that it is duplicating from, but no duplicates!\n",
        "df.duplicated(keep=False).sum()"
      ],
      "metadata": {
        "colab": {
          "base_uri": "https://localhost:8080/"
        },
        "id": "9H1z_P2MoAz0",
        "outputId": "a52994dd-2307-4180-b58b-7e8f282ee33a"
      },
      "execution_count": null,
      "outputs": [
        {
          "output_type": "execute_result",
          "data": {
            "text/plain": [
              "0"
            ]
          },
          "metadata": {},
          "execution_count": 4
        }
      ]
    },
    {
      "cell_type": "code",
      "source": [
        "#No missing data!\n",
        "null_vals = df.isna().sum()\n",
        "null_vals"
      ],
      "metadata": {
        "colab": {
          "base_uri": "https://localhost:8080/"
        },
        "id": "e4h986OaoC3P",
        "outputId": "2e20bc08-1603-4548-ae31-d6c27223fea9"
      },
      "execution_count": null,
      "outputs": [
        {
          "output_type": "execute_result",
          "data": {
            "text/plain": [
              "AREA             0\n",
              "PERIMETER        0\n",
              "MAJOR_AXIS       0\n",
              "MINOR_AXIS       0\n",
              "ECCENTRICITY     0\n",
              "EQDIASQ          0\n",
              "SOLIDITY         0\n",
              "CONVEX_AREA      0\n",
              "EXTENT           0\n",
              "ASPECT_RATIO     0\n",
              "ROUNDNESS        0\n",
              "COMPACTNESS      0\n",
              "SHAPEFACTOR_1    0\n",
              "SHAPEFACTOR_2    0\n",
              "SHAPEFACTOR_3    0\n",
              "SHAPEFACTOR_4    0\n",
              "MeanRR           0\n",
              "MeanRG           0\n",
              "MeanRB           0\n",
              "StdDevRR         0\n",
              "StdDevRG         0\n",
              "StdDevRB         0\n",
              "SkewRR           0\n",
              "SkewRG           0\n",
              "SkewRB           0\n",
              "KurtosisRR       0\n",
              "KurtosisRG       0\n",
              "KurtosisRB       0\n",
              "EntropyRR        0\n",
              "EntropyRG        0\n",
              "EntropyRB        0\n",
              "ALLdaub4RR       0\n",
              "ALLdaub4RG       0\n",
              "ALLdaub4RB       0\n",
              "Class            0\n",
              "dtype: int64"
            ]
          },
          "metadata": {},
          "execution_count": 5
        }
      ]
    },
    {
      "cell_type": "code",
      "source": [
        "df[\"Class\"].value_counts()"
      ],
      "metadata": {
        "colab": {
          "base_uri": "https://localhost:8080/"
        },
        "id": "y17rYEygoGVq",
        "outputId": "f7f48e60-36d7-455d-8a7d-e088255f280e"
      },
      "execution_count": null,
      "outputs": [
        {
          "output_type": "execute_result",
          "data": {
            "text/plain": [
              "DOKOL     204\n",
              "SAFAVI    199\n",
              "ROTANA    166\n",
              "DEGLET     98\n",
              "SOGAY      94\n",
              "IRAQI      72\n",
              "BERHI      65\n",
              "Name: Class, dtype: int64"
            ]
          },
          "metadata": {},
          "execution_count": 6
        }
      ]
    },
    {
      "cell_type": "code",
      "source": [
        "df.shape"
      ],
      "metadata": {
        "colab": {
          "base_uri": "https://localhost:8080/"
        },
        "id": "SuXuUgobopAT",
        "outputId": "944d9582-19ea-46ef-ebf2-9665ccc6700c"
      },
      "execution_count": null,
      "outputs": [
        {
          "output_type": "execute_result",
          "data": {
            "text/plain": [
              "(898, 35)"
            ]
          },
          "metadata": {},
          "execution_count": 7
        }
      ]
    },
    {
      "cell_type": "code",
      "source": [
        "# Define target column\n",
        "df['Class'] = df['Class'].map({'DOKOL': 1, 'SAFAVI': 2,'ROTANA': 3, 'DEGLET': 4, 'SOGAY': 5, 'IRAQI': 6, 'BERHI': 7})\n",
        "# Save X data\n",
        "X = df.drop(columns = 'Class')\n",
        "# Encode our target\n",
        "y = df['Class']"
      ],
      "metadata": {
        "id": "KrG38mnSotEb"
      },
      "execution_count": null,
      "outputs": []
    },
    {
      "cell_type": "code",
      "source": [
        "X.shape"
      ],
      "metadata": {
        "colab": {
          "base_uri": "https://localhost:8080/"
        },
        "id": "Zh0B_hbvqxQZ",
        "outputId": "2a281a45-64f0-4935-8190-02be2dfc2d0a"
      },
      "execution_count": null,
      "outputs": [
        {
          "output_type": "execute_result",
          "data": {
            "text/plain": [
              "(898, 34)"
            ]
          },
          "metadata": {},
          "execution_count": 9
        }
      ]
    },
    {
      "cell_type": "code",
      "source": [
        "# Instantiate Standard Scaler\n",
        "scaler = StandardScaler()\n",
        "# Fit & transform data.\n",
        "scaled_df = scaler.fit_transform(X)"
      ],
      "metadata": {
        "id": "6-YQIqPjq2ef"
      },
      "execution_count": null,
      "outputs": []
    },
    {
      "cell_type": "code",
      "source": [
        "# Instantiate & fit data using PCA\n",
        "pca = PCA()\n",
        "pca.fit(scaled_df)"
      ],
      "metadata": {
        "colab": {
          "base_uri": "https://localhost:8080/"
        },
        "id": "iM-BzHJhq4kv",
        "outputId": "488013d3-b6d5-437b-e684-b27ade53dd21"
      },
      "execution_count": null,
      "outputs": [
        {
          "output_type": "execute_result",
          "data": {
            "text/plain": [
              "PCA()"
            ]
          },
          "metadata": {},
          "execution_count": 11
        }
      ]
    },
    {
      "cell_type": "code",
      "source": [
        "# plot the cumulative sum of the percentage of explained variance for each component and those before it.\n",
        "plt.plot(range(1, 35), pca.explained_variance_ratio_.cumsum(), marker= '.')\n",
        "plt.xticks(ticks=range(1,35), fontsize=8);"
      ],
      "metadata": {
        "colab": {
          "base_uri": "https://localhost:8080/",
          "height": 264
        },
        "id": "sUDBwAblq7Pn",
        "outputId": "714c51b9-13ea-407b-8354-c1ffbfcc6438"
      },
      "execution_count": null,
      "outputs": [
        {
          "output_type": "display_data",
          "data": {
            "text/plain": [
              "<Figure size 432x288 with 1 Axes>"
            ],
            "image/png": "[encoded data removed]"
          },
          "metadata": {
            "needs_background": "light"
          }
        }
      ]
    },
    {
      "cell_type": "markdown",
      "source": [
        "The graph above shows the cumulative variance explained as the number of principal components returned increases.  Intially, there was a dramatic increase in the proportion of explained variance, but this starts to level off as we incrementally add more components, mainly as it gets to 7 principle componenets."
      ],
      "metadata": {
        "id": "Icfq9y9CrS3B"
      }
    },
    {
      "cell_type": "code",
      "source": [
        "# Plot the explained variance ratios of the first 34 principal components\n",
        "plt.plot(range(1, 35), pca.explained_variance_ratio_, marker = '.')\n",
        "plt.xticks(ticks = range(1, 35), fontsize=8)\n",
        "plt.xlabel('Principal Component')\n",
        "plt.ylabel('Proportion of Explained Variance')"
      ],
      "metadata": {
        "colab": {
          "base_uri": "https://localhost:8080/",
          "height": 295
        },
        "id": "lmyxoP8YrpZh",
        "outputId": "46ba445e-f470-4343-9726-874d498ce6f7"
      },
      "execution_count": null,
      "outputs": [
        {
          "output_type": "execute_result",
          "data": {
            "text/plain": [
              "Text(0, 0.5, 'Proportion of Explained Variance')"
            ]
          },
          "metadata": {},
          "execution_count": 13
        },
        {
          "output_type": "display_data",
          "data": {
            "text/plain": [
              "<Figure size 432x288 with 1 Axes>"
            ],
            "image/png": "[encoded data removed]"
          },
          "metadata": {
            "needs_background": "light"
          }
        }
      ]
    },
    {
      "cell_type": "markdown",
      "source": [
        "Above I was see the contribution of each component separately.  The first component explains the largest proportion of variance, and each additional component contributes less and less while keeping in mind that even though this graph is decreasing, increasing the number of components always increases the overall (cumulative) variance explained. Below I created a PCA model to capture 99% of the variance. "
      ],
      "metadata": {
        "id": "hT55c9NhuA5y"
      }
    },
    {
      "cell_type": "code",
      "source": [
        "# PCA with 99% variance \n",
        "pca99 = PCA(n_components=.99)"
      ],
      "metadata": {
        "id": "uRNbuHjPsTKV"
      },
      "execution_count": null,
      "outputs": []
    },
    {
      "cell_type": "code",
      "source": [
        "# Train test split\n",
        "X_train, X_test, y_train, y_test = train_test_split(X, y, random_state=3)"
      ],
      "metadata": {
        "id": "9-5wVdI4ucC2"
      },
      "execution_count": null,
      "outputs": []
    },
    {
      "cell_type": "code",
      "source": [
        "# Create a transformer pipeline\n",
        "transformer = make_pipeline(StandardScaler(), pca99)"
      ],
      "metadata": {
        "id": "ju0YR8Slud6h"
      },
      "execution_count": null,
      "outputs": []
    },
    {
      "cell_type": "code",
      "source": [
        "transformer.fit_transform(X_train).shape"
      ],
      "metadata": {
        "colab": {
          "base_uri": "https://localhost:8080/"
        },
        "id": "VvrEL90aulwh",
        "outputId": "c48584cb-a056-4c14-c0ad-d3de48264791"
      },
      "execution_count": null,
      "outputs": [
        {
          "output_type": "execute_result",
          "data": {
            "text/plain": [
              "(673, 15)"
            ]
          },
          "metadata": {},
          "execution_count": 17
        }
      ]
    },
    {
      "cell_type": "code",
      "source": [
        "knn = KNeighborsClassifier()"
      ],
      "metadata": {
        "id": "nucLwQHzuqGC"
      },
      "execution_count": null,
      "outputs": []
    },
    {
      "cell_type": "code",
      "source": [
        "knn.get_params()"
      ],
      "metadata": {
        "colab": {
          "base_uri": "https://localhost:8080/"
        },
        "id": "WKsaJUgyurtr",
        "outputId": "117b5ea5-2e08-41ad-9711-7700faab611a"
      },
      "execution_count": null,
      "outputs": [
        {
          "output_type": "execute_result",
          "data": {
            "text/plain": [
              "{'algorithm': 'auto',\n",
              " 'leaf_size': 30,\n",
              " 'metric': 'minkowski',\n",
              " 'metric_params': None,\n",
              " 'n_jobs': None,\n",
              " 'n_neighbors': 5,\n",
              " 'p': 2,\n",
              " 'weights': 'uniform'}"
            ]
          },
          "metadata": {},
          "execution_count": 19
        }
      ]
    },
    {
      "cell_type": "code",
      "source": [
        "knn_pipe_pca = make_pipeline(transformer, knn)"
      ],
      "metadata": {
        "id": "2zbkzMt0uuxd"
      },
      "execution_count": null,
      "outputs": []
    },
    {
      "cell_type": "code",
      "source": [
        "knn_pipe_pca.fit(X_train, y_train)"
      ],
      "metadata": {
        "colab": {
          "base_uri": "https://localhost:8080/"
        },
        "id": "h0G93tnjuwe3",
        "outputId": "364d3649-1463-41f5-aeb8-dc7003106823"
      },
      "execution_count": null,
      "outputs": [
        {
          "output_type": "execute_result",
          "data": {
            "text/plain": [
              "Pipeline(steps=[('pipeline',\n",
              "                 Pipeline(steps=[('standardscaler', StandardScaler()),\n",
              "                                 ('pca', PCA(n_components=0.99))])),\n",
              "                ('kneighborsclassifier', KNeighborsClassifier())])"
            ]
          },
          "metadata": {},
          "execution_count": 21
        }
      ]
    },
    {
      "cell_type": "code",
      "source": [
        "#%%time times how long the code takes to run\n",
        "%%time\n",
        "predictions_pca = knn_pipe_pca.predict(X_test)"
      ],
      "metadata": {
        "colab": {
          "base_uri": "https://localhost:8080/"
        },
        "id": "BJH_TtuQuzhd",
        "outputId": "80f951e0-d895-424a-f8ec-3fa93d78db27"
      },
      "execution_count": null,
      "outputs": [
        {
          "output_type": "stream",
          "name": "stdout",
          "text": [
            "CPU times: user 13.8 ms, sys: 0 ns, total: 13.8 ms\n",
            "Wall time: 15.5 ms\n"
          ]
        }
      ]
    },
    {
      "cell_type": "code",
      "source": [
        "knn_pipe_no_pca = make_pipeline(scaler, knn)"
      ],
      "metadata": {
        "id": "JxEkS7JEu9tg"
      },
      "execution_count": null,
      "outputs": []
    },
    {
      "cell_type": "code",
      "source": [
        "knn_pipe_no_pca.fit(X_train, y_train)"
      ],
      "metadata": {
        "colab": {
          "base_uri": "https://localhost:8080/"
        },
        "id": "Xpakb-5Ku_hI",
        "outputId": "153eff42-1590-486e-ccc4-4fe2b8d9a0ea"
      },
      "execution_count": null,
      "outputs": [
        {
          "output_type": "execute_result",
          "data": {
            "text/plain": [
              "Pipeline(steps=[('standardscaler', StandardScaler()),\n",
              "                ('kneighborsclassifier', KNeighborsClassifier())])"
            ]
          },
          "metadata": {},
          "execution_count": 24
        }
      ]
    },
    {
      "cell_type": "code",
      "source": [
        "%%time\n",
        "predictions_no_pca = knn_pipe_no_pca.predict(X_test)"
      ],
      "metadata": {
        "colab": {
          "base_uri": "https://localhost:8080/"
        },
        "id": "iXNxKZ8pvBMW",
        "outputId": "5623da81-cb7a-4ab2-a933-95e75ed1f710"
      },
      "execution_count": null,
      "outputs": [
        {
          "output_type": "stream",
          "name": "stdout",
          "text": [
            "CPU times: user 23.6 ms, sys: 14.5 ms, total: 38.1 ms\n",
            "Wall time: 28.4 ms\n"
          ]
        }
      ]
    },
    {
      "cell_type": "markdown",
      "source": [
        "We can see above that using the PCA helped run our model faster. Now that we know the model with reduced features runs faster, let's see if also continues to be more accurate! "
      ],
      "metadata": {
        "id": "Uc7rMHVr_LWn"
      }
    },
    {
      "cell_type": "code",
      "source": [
        "pca_cm = confusion_matrix(y_test, predictions_pca)\n",
        "no_pca_cm = confusion_matrix(y_test, predictions_no_pca)"
      ],
      "metadata": {
        "id": "am992c_jvFxb"
      },
      "execution_count": null,
      "outputs": []
    },
    {
      "cell_type": "code",
      "source": [
        "pca_matrix = confusion_matrix(y_test, predictions_pca)\n",
        "print('PCA KNN matrix: \\n')\n",
        "sns.heatmap(pca_matrix, annot=True, fmt = 'g', cmap='Greens');"
      ],
      "metadata": {
        "colab": {
          "base_uri": "https://localhost:8080/",
          "height": 304
        },
        "id": "e_8y6_T2vkUA",
        "outputId": "4267e8fe-44d8-4ae3-c08c-b74dc6f32dfa"
      },
      "execution_count": null,
      "outputs": [
        {
          "output_type": "stream",
          "name": "stdout",
          "text": [
            "PCA KNN matrix: \n",
            "\n"
          ]
        },
        {
          "output_type": "display_data",
          "data": {
            "text/plain": [
              "<Figure size 432x288 with 2 Axes>"
            ],
            "image/png": "[encoded data removed]"
          },
          "metadata": {
            "needs_background": "light"
          }
        }
      ]
    },
    {
      "cell_type": "code",
      "source": [
        "no_pca_matrix = confusion_matrix(y_test, predictions_no_pca)\n",
        "print('No PCA KNN matrix: \\n')\n",
        "sns.heatmap(no_pca_matrix, annot=True, fmt = 'g', cmap='Greens');"
      ],
      "metadata": {
        "colab": {
          "base_uri": "https://localhost:8080/",
          "height": 304
        },
        "id": "zjd7pJ14vote",
        "outputId": "55bd1427-c1bd-4d77-ea27-153e584e9c39"
      },
      "execution_count": null,
      "outputs": [
        {
          "output_type": "stream",
          "name": "stdout",
          "text": [
            "No PCA KNN matrix: \n",
            "\n"
          ]
        },
        {
          "output_type": "display_data",
          "data": {
            "text/plain": [
              "<Figure size 432x288 with 2 Axes>"
            ],
            "image/png": "[encoded data removed]"
          },
          "metadata": {
            "needs_background": "light"
          }
        }
      ]
    },
    {
      "cell_type": "code",
      "source": [
        "print('PCA', classification_report(y_test, predictions_pca))\n",
        "print('No PCA', classification_report(y_test, predictions_no_pca))"
      ],
      "metadata": {
        "colab": {
          "base_uri": "https://localhost:8080/"
        },
        "id": "WCLdndvHvs6m",
        "outputId": "d77ee53e-30ad-4399-81e0-c33df1f2b570"
      },
      "execution_count": null,
      "outputs": [
        {
          "output_type": "stream",
          "name": "stdout",
          "text": [
            "PCA               precision    recall  f1-score   support\n",
            "\n",
            "           1       0.92      0.98      0.95        45\n",
            "           2       0.98      0.98      0.98        51\n",
            "           3       0.84      0.95      0.89        39\n",
            "           4       0.83      0.67      0.74        36\n",
            "           5       0.68      0.68      0.68        25\n",
            "           6       0.75      0.92      0.83        13\n",
            "           7       0.92      0.69      0.79        16\n",
            "\n",
            "    accuracy                           0.87       225\n",
            "   macro avg       0.84      0.84      0.84       225\n",
            "weighted avg       0.87      0.87      0.86       225\n",
            "\n",
            "No PCA               precision    recall  f1-score   support\n",
            "\n",
            "           1       0.92      0.98      0.95        45\n",
            "           2       0.98      0.98      0.98        51\n",
            "           3       0.84      0.95      0.89        39\n",
            "           4       0.83      0.67      0.74        36\n",
            "           5       0.68      0.68      0.68        25\n",
            "           6       0.79      0.85      0.81        13\n",
            "           7       0.86      0.75      0.80        16\n",
            "\n",
            "    accuracy                           0.87       225\n",
            "   macro avg       0.84      0.84      0.84       225\n",
            "weighted avg       0.87      0.87      0.86       225\n",
            "\n"
          ]
        }
      ]
    },
    {
      "cell_type": "markdown",
      "source": [
        "PCA model is faster and has just as much accruacy as the one without the PCA!"
      ],
      "metadata": {
        "id": "yFogW6Wv_w7L"
      }
    },
    {
      "cell_type": "code",
      "source": [
        "# PCA with 99% variance \n",
        "pca99 = PCA(n_components=.99)"
      ],
      "metadata": {
        "id": "ioCgzkNePffk"
      },
      "execution_count": null,
      "outputs": []
    },
    {
      "cell_type": "code",
      "source": [
        "# Train test split\n",
        "X_train, X_test, y_train, y_test = train_test_split(X, y, random_state=3)"
      ],
      "metadata": {
        "id": "A45jRUHOPirr"
      },
      "execution_count": null,
      "outputs": []
    },
    {
      "cell_type": "code",
      "source": [
        "# Create a transformer pipeline\n",
        "transformer = make_pipeline(StandardScaler(), pca99)"
      ],
      "metadata": {
        "id": "MsCuYiOQPk61"
      },
      "execution_count": null,
      "outputs": []
    },
    {
      "cell_type": "code",
      "source": [
        "transformer.fit_transform(X_train).shape"
      ],
      "metadata": {
        "colab": {
          "base_uri": "https://localhost:8080/"
        },
        "id": "38UySs8jPnYm",
        "outputId": "f72291c7-e461-435a-c902-3722b8cd7d0e"
      },
      "execution_count": null,
      "outputs": [
        {
          "output_type": "execute_result",
          "data": {
            "text/plain": [
              "(673, 15)"
            ]
          },
          "metadata": {},
          "execution_count": 33
        }
      ]
    },
    {
      "cell_type": "code",
      "source": [
        "rf = RandomForestRegressor(random_state = 42)\n",
        "\n",
        "# Looking at some hyperparameters that seem tunable\n",
        "rf.get_params()"
      ],
      "metadata": {
        "colab": {
          "base_uri": "https://localhost:8080/"
        },
        "id": "okzFsz3RyixC",
        "outputId": "ecf4cdbd-6833-4e13-9339-0766d110cf32"
      },
      "execution_count": null,
      "outputs": [
        {
          "output_type": "execute_result",
          "data": {
            "text/plain": [
              "{'bootstrap': True,\n",
              " 'ccp_alpha': 0.0,\n",
              " 'criterion': 'squared_error',\n",
              " 'max_depth': None,\n",
              " 'max_features': 'auto',\n",
              " 'max_leaf_nodes': None,\n",
              " 'max_samples': None,\n",
              " 'min_impurity_decrease': 0.0,\n",
              " 'min_samples_leaf': 1,\n",
              " 'min_samples_split': 2,\n",
              " 'min_weight_fraction_leaf': 0.0,\n",
              " 'n_estimators': 100,\n",
              " 'n_jobs': None,\n",
              " 'oob_score': False,\n",
              " 'random_state': 42,\n",
              " 'verbose': 0,\n",
              " 'warm_start': False}"
            ]
          },
          "metadata": {},
          "execution_count": 34
        }
      ]
    },
    {
      "cell_type": "code",
      "source": [
        "rf_pipe_pca = make_pipeline(transformer, rf)"
      ],
      "metadata": {
        "id": "LIlNx-0ly8Tv"
      },
      "execution_count": null,
      "outputs": []
    },
    {
      "cell_type": "code",
      "source": [
        "rf_pipe_pca.fit(X_train, y_train)"
      ],
      "metadata": {
        "colab": {
          "base_uri": "https://localhost:8080/"
        },
        "id": "cME7l_tnPzW3",
        "outputId": "4bb375a2-d22c-4b9b-db81-5af8d647c289"
      },
      "execution_count": null,
      "outputs": [
        {
          "output_type": "execute_result",
          "data": {
            "text/plain": [
              "Pipeline(steps=[('pipeline',\n",
              "                 Pipeline(steps=[('standardscaler', StandardScaler()),\n",
              "                                 ('pca', PCA(n_components=0.99))])),\n",
              "                ('randomforestregressor',\n",
              "                 RandomForestRegressor(random_state=42))])"
            ]
          },
          "metadata": {},
          "execution_count": 36
        }
      ]
    },
    {
      "cell_type": "code",
      "source": [
        "rf_pipe_pca.predict(X_test)"
      ],
      "metadata": {
        "colab": {
          "base_uri": "https://localhost:8080/"
        },
        "id": "af-PLOPay-bi",
        "outputId": "bae6edfc-d46f-4af1-e42c-048177be908c"
      },
      "execution_count": null,
      "outputs": [
        {
          "output_type": "execute_result",
          "data": {
            "text/plain": [
              "array([3.38, 3.27, 2.02, 2.07, 4.26, 2.99, 2.  , 4.2 , 1.  , 6.28, 1.99,\n",
              "       5.36, 2.  , 4.47, 1.3 , 3.79, 6.26, 2.04, 3.07, 6.67, 1.  , 3.54,\n",
              "       2.  , 6.78, 3.  , 3.78, 1.06, 6.09, 1.  , 1.03, 5.83, 2.  , 3.27,\n",
              "       1.03, 2.67, 3.49, 3.92, 2.  , 1.65, 3.17, 2.39, 1.54, 4.88, 4.14,\n",
              "       6.33, 4.11, 1.07, 2.17, 4.91, 4.12, 6.02, 2.05, 1.  , 3.1 , 4.74,\n",
              "       6.98, 3.13, 1.03, 1.18, 1.06, 6.87, 3.67, 2.31, 2.  , 4.58, 4.21,\n",
              "       4.34, 6.02, 3.14, 3.05, 2.  , 1.  , 3.56, 1.77, 1.03, 3.  , 2.  ,\n",
              "       3.27, 4.4 , 4.56, 1.06, 2.16, 3.79, 2.65, 1.99, 4.26, 1.  , 4.1 ,\n",
              "       4.78, 2.  , 4.77, 3.54, 1.51, 2.06, 4.08, 3.79, 2.  , 4.75, 2.24,\n",
              "       6.09, 1.03, 3.06, 1.59, 3.81, 3.  , 3.99, 3.04, 3.74, 4.03, 2.04,\n",
              "       6.41, 3.17, 1.72, 1.03, 2.2 , 1.99, 1.03, 3.  , 4.66, 3.14, 3.29,\n",
              "       4.03, 6.  , 6.11, 6.06, 3.  , 4.11, 6.97, 4.48, 1.96, 6.77, 4.56,\n",
              "       3.02, 1.  , 3.04, 6.78, 1.  , 4.36, 6.17, 1.28, 2.17, 1.06, 2.  ,\n",
              "       2.05, 3.  , 2.25, 2.  , 3.08, 3.  , 1.  , 3.9 , 4.01, 2.99, 4.1 ,\n",
              "       1.03, 3.57, 3.89, 1.  , 1.04, 3.61, 6.3 , 6.88, 2.  , 4.07, 2.19,\n",
              "       4.61, 3.1 , 1.  , 4.08, 2.22, 2.  , 2.  , 4.15, 4.59, 1.29, 3.99,\n",
              "       4.85, 6.83, 3.07, 3.32, 1.99, 2.  , 2.03, 3.87, 1.31, 5.87, 4.91,\n",
              "       1.  , 2.22, 1.  , 4.05, 4.11, 1.05, 5.39, 2.03, 3.12, 1.22, 2.01,\n",
              "       3.62, 4.18, 3.04, 1.45, 2.02, 2.  , 1.99, 6.8 , 1.  , 2.  , 2.  ,\n",
              "       3.71, 6.71, 1.  , 6.38, 4.88, 6.91, 2.02, 2.02, 3.01, 4.13, 2.03,\n",
              "       4.28, 4.01, 3.81, 3.  , 3.  ])"
            ]
          },
          "metadata": {},
          "execution_count": 37
        }
      ]
    },
    {
      "cell_type": "code",
      "source": [
        "rf_pipe_pca_train_score = rf_pipe_pca.score(X_train, y_train)\n",
        "rf_pipe_pca_test_score = rf_pipe_pca.score(X_test, y_test)\n",
        "print(rf_pipe_pca_train_score)\n",
        "print(rf_pipe_pca_test_score)"
      ],
      "metadata": {
        "colab": {
          "base_uri": "https://localhost:8080/"
        },
        "id": "ClexKv8xzAU1",
        "outputId": "f6bc61fa-1559-43e9-d24d-3dd9daf0b5d0"
      },
      "execution_count": null,
      "outputs": [
        {
          "output_type": "stream",
          "name": "stdout",
          "text": [
            "0.9783175794460696\n",
            "0.9068269019951765\n"
          ]
        }
      ]
    },
    {
      "cell_type": "markdown",
      "source": [
        "It looks like the training dataset has a higher R2 score. This may mean that it's overfit! This means that our prediction line could be fitting exactly with the values in the dataset, meaning that it may not respond will to new data. Let's see what I can do about that!"
      ],
      "metadata": {
        "id": "R5O_K45EzF7F"
      }
    },
    {
      "cell_type": "code",
      "source": [
        "rf_9 = RandomForestRegressor(max_depth = 50, random_state = 42)\n",
        "rf_9.fit(X_train, y_train)\n",
        "rf_9_train_score = rf_9.score(X_train, y_train)\n",
        "rf_9_test_score = rf_9.score(X_test, y_test)\n",
        "print(rf_9_train_score)\n",
        "print(rf_9_test_score)"
      ],
      "metadata": {
        "colab": {
          "base_uri": "https://localhost:8080/"
        },
        "id": "Kl65gS20zFTy",
        "outputId": "922389a5-7fb7-4c85-a0bc-4e68779f720a"
      },
      "execution_count": null,
      "outputs": [
        {
          "output_type": "stream",
          "name": "stdout",
          "text": [
            "0.9850347198787709\n",
            "0.9144674961631221\n"
          ]
        }
      ]
    },
    {
      "cell_type": "code",
      "source": [
        "[estimator.get_depth() for estimator in rf.estimators_]"
      ],
      "metadata": {
        "colab": {
          "base_uri": "https://localhost:8080/"
        },
        "id": "i3SrrJuOzh_n",
        "outputId": "5c797261-fa8f-4022-b89b-34074153ea2c"
      },
      "execution_count": null,
      "outputs": [
        {
          "output_type": "execute_result",
          "data": {
            "text/plain": [
              "[10,\n",
              " 11,\n",
              " 9,\n",
              " 10,\n",
              " 10,\n",
              " 10,\n",
              " 11,\n",
              " 12,\n",
              " 11,\n",
              " 9,\n",
              " 10,\n",
              " 10,\n",
              " 10,\n",
              " 10,\n",
              " 12,\n",
              " 10,\n",
              " 12,\n",
              " 10,\n",
              " 11,\n",
              " 10,\n",
              " 12,\n",
              " 11,\n",
              " 9,\n",
              " 12,\n",
              " 11,\n",
              " 11,\n",
              " 11,\n",
              " 10,\n",
              " 12,\n",
              " 9,\n",
              " 10,\n",
              " 13,\n",
              " 12,\n",
              " 9,\n",
              " 9,\n",
              " 10,\n",
              " 10,\n",
              " 13,\n",
              " 10,\n",
              " 9,\n",
              " 9,\n",
              " 9,\n",
              " 9,\n",
              " 9,\n",
              " 9,\n",
              " 12,\n",
              " 11,\n",
              " 11,\n",
              " 9,\n",
              " 11,\n",
              " 10,\n",
              " 11,\n",
              " 11,\n",
              " 12,\n",
              " 10,\n",
              " 11,\n",
              " 9,\n",
              " 12,\n",
              " 10,\n",
              " 14,\n",
              " 10,\n",
              " 11,\n",
              " 12,\n",
              " 12,\n",
              " 10,\n",
              " 10,\n",
              " 13,\n",
              " 11,\n",
              " 10,\n",
              " 10,\n",
              " 11,\n",
              " 13,\n",
              " 9,\n",
              " 13,\n",
              " 12,\n",
              " 10,\n",
              " 11,\n",
              " 9,\n",
              " 10,\n",
              " 10,\n",
              " 12,\n",
              " 9,\n",
              " 10,\n",
              " 12,\n",
              " 10,\n",
              " 10,\n",
              " 11,\n",
              " 11,\n",
              " 11,\n",
              " 10,\n",
              " 10,\n",
              " 9,\n",
              " 9,\n",
              " 10,\n",
              " 11,\n",
              " 10,\n",
              " 10,\n",
              " 11,\n",
              " 10,\n",
              " 10]"
            ]
          },
          "metadata": {},
          "execution_count": 54
        }
      ]
    },
    {
      "cell_type": "markdown",
      "source": [
        "I was playing around with the max_depth value a bit, and even as I was doing so, I still wasn't able to see a R2 test value up to the same level as the train value. "
      ],
      "metadata": {
        "id": "3A40MjwtWl_E"
      }
    },
    {
      "cell_type": "code",
      "source": [
        "# Try 200 trees\n",
        "rf_200 = RandomForestRegressor(n_estimators = 200, random_state = 42)\n",
        "# Fit the model\n",
        "rf_200.fit(X_train, y_train)\n",
        "# Obtain the scores\n",
        "rf_200_train_score = rf_200.score(X_train, y_train)\n",
        "rf_200_test_score = rf_200.score(X_test, y_test)\n",
        "print(rf_200_train_score)\n",
        "print(rf_200_test_score)"
      ],
      "metadata": {
        "colab": {
          "base_uri": "https://localhost:8080/"
        },
        "id": "UuMAFRF4zU9e",
        "outputId": "bc3a41cd-ebd2-4d52-b318-b82328465d40"
      },
      "execution_count": null,
      "outputs": [
        {
          "output_type": "stream",
          "name": "stdout",
          "text": [
            "0.9847235613255625\n",
            "0.9135058443871958\n"
          ]
        }
      ]
    },
    {
      "cell_type": "markdown",
      "source": [
        "Improvements may still need to be made about my model regaridng it's accuracy and ability to take on new data, but we have found a way to get it to process information faster which may be helpful for future use!"
      ],
      "metadata": {
        "id": "l6xcjrVZYlmF"
      }
    }
  ]
}